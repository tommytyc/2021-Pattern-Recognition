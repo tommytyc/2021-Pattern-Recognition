{
 "cells": [
  {
   "cell_type": "markdown",
   "metadata": {},
   "source": [
    "## HW2: Linear Discriminant Analysis\n",
    "In hw2, you need to implement Fisher’s linear discriminant by using only numpy, then train your implemented model by the provided dataset and test the performance with testing data\n",
    "\n",
    "Please note that only **NUMPY** can be used to implement your model, you will get no points by calling sklearn.discriminant_analysis.LinearDiscriminantAnalysis "
   ]
  },
  {
   "cell_type": "markdown",
   "metadata": {},
   "source": [
    "## Load data"
   ]
  },
  {
   "cell_type": "code",
   "execution_count": 1,
   "metadata": {},
   "outputs": [],
   "source": [
    "import numpy as np\n",
    "import matplotlib.pyplot as plt\n",
    "from sklearn.metrics import accuracy_score"
   ]
  },
  {
   "cell_type": "code",
   "execution_count": 2,
   "metadata": {},
   "outputs": [],
   "source": [
    "x_train = np.load(\"x_train.npy\")\n",
    "y_train = np.load(\"y_train.npy\")\n",
    "x_test = np.load(\"x_test.npy\")\n",
    "y_test = np.load(\"y_test.npy\")"
   ]
  },
  {
   "cell_type": "code",
   "execution_count": 3,
   "metadata": {},
   "outputs": [
    {
     "name": "stdout",
     "output_type": "stream",
     "text": [
      "(750, 2)\n",
      "(750,)\n",
      "(250, 2)\n",
      "(250,)\n"
     ]
    }
   ],
   "source": [
    "print(x_train.shape)\n",
    "print(y_train.shape)\n",
    "print(x_test.shape)\n",
    "print(y_test.shape)"
   ]
  },
  {
   "cell_type": "markdown",
   "metadata": {},
   "source": [
    "## 1. Compute the mean vectors mi, (i=1,2) of each 2 classes"
   ]
  },
  {
   "cell_type": "code",
   "execution_count": 4,
   "metadata": {},
   "outputs": [],
   "source": [
    "## Your code HERE\n",
    "m1 = np.array([[0., 0.]])\n",
    "m2 = np.array([[0., 0.]])\n",
    "m1cnt = 0\n",
    "m2cnt = 0\n",
    "for i in range(len(x_train)):\n",
    "    if y_train[i] == 0:\n",
    "        m1 += x_train[i]\n",
    "        m1cnt += 1\n",
    "    elif y_train[i] == 1:\n",
    "        m2 += x_train[i]\n",
    "        m2cnt += 1\n",
    "m1 /= m1cnt\n",
    "m2 /= m2cnt"
   ]
  },
  {
   "cell_type": "code",
   "execution_count": 5,
   "metadata": {},
   "outputs": [
    {
     "name": "stdout",
     "output_type": "stream",
     "text": [
      "mean vector of class 1: [[ 1.3559426  -1.34746216]] mean vector of class 2: [[-1.29735587  1.29096203]]\n"
     ]
    }
   ],
   "source": [
    "print(f\"mean vector of class 1: {m1}\", f\"mean vector of class 2: {m2}\")"
   ]
  },
  {
   "cell_type": "markdown",
   "metadata": {},
   "source": [
    "## 2. Compute the Within-class scatter matrix SW"
   ]
  },
  {
   "cell_type": "code",
   "execution_count": 6,
   "metadata": {},
   "outputs": [],
   "source": [
    "## Your code HERE\n",
    "c0 = []\n",
    "c1 = []\n",
    "for i in range(len(x_train)):\n",
    "    if y_train[i] == 0:\n",
    "        c0.append(x_train[i])\n",
    "    else:\n",
    "        c1.append(x_train)\n",
    "        \n",
    "c0 = np.array(c0)\n",
    "c1 = np.array(c1)\n",
    "sw = np.cov(c0[0].T) + np.cov(c1[0].T)"
   ]
  },
  {
   "cell_type": "code",
   "execution_count": 7,
   "metadata": {},
   "outputs": [
    {
     "name": "stdout",
     "output_type": "stream",
     "text": [
      "Within-class scatter matrix SW: [[5.08270833 0.74427671]\n",
      " [0.74427671 5.43274122]]\n"
     ]
    }
   ],
   "source": [
    "assert sw.shape == (2,2)\n",
    "print(f\"Within-class scatter matrix SW: {sw}\")"
   ]
  },
  {
   "cell_type": "markdown",
   "metadata": {},
   "source": [
    "## 3.  Compute the Between-class scatter matrix SB"
   ]
  },
  {
   "cell_type": "code",
   "execution_count": 8,
   "metadata": {},
   "outputs": [],
   "source": [
    "## Your code HERE\n",
    "sb = np.dot((m1 - m2).T, (m1 - m2))"
   ]
  },
  {
   "cell_type": "code",
   "execution_count": 9,
   "metadata": {},
   "outputs": [
    {
     "name": "stdout",
     "output_type": "stream",
     "text": [
      "Between-class scatter matrix SB: [[ 7.03999279 -7.00052687]\n",
      " [-7.00052687  6.9612822 ]]\n"
     ]
    }
   ],
   "source": [
    "assert sb.shape == (2,2)\n",
    "print(f\"Between-class scatter matrix SB: {sb}\")"
   ]
  },
  {
   "cell_type": "markdown",
   "metadata": {},
   "source": [
    "## 4. Compute the Fisher’s linear discriminant"
   ]
  },
  {
   "cell_type": "code",
   "execution_count": 10,
   "metadata": {},
   "outputs": [],
   "source": [
    "## Your code HERE\n",
    "inv_sw = np.linalg.inv(sw)\n",
    "w = np.dot(inv_sw, (m1 - m2).T)\n",
    "w = w / np.linalg.norm(w)"
   ]
  },
  {
   "cell_type": "code",
   "execution_count": 11,
   "metadata": {},
   "outputs": [
    {
     "name": "stdout",
     "output_type": "stream",
     "text": [
      " Fisher’s linear discriminant: [[ 0.72886234]\n",
      " [-0.68466028]]\n"
     ]
    }
   ],
   "source": [
    "assert w.shape == (2,1)\n",
    "print(f\" Fisher’s linear discriminant: {w}\")"
   ]
  },
  {
   "cell_type": "code",
   "execution_count": 12,
   "metadata": {},
   "outputs": [],
   "source": [
    "y_train_prj = np.dot(w.T, x_train.T)\n",
    "y_test_prj = np.dot(w.T, x_test.T)\n",
    "y_pred = []\n",
    "for i in range(len(y_test)):\n",
    "    value = y_test_prj[0][i]\n",
    "    if y_train[(np.abs(y_train_prj - value)).argmin()] == 0:\n",
    "        y_pred.append(0)\n",
    "    else:\n",
    "        y_pred.append(1)\n",
    "y_pred = np.array(y_pred)"
   ]
  },
  {
   "cell_type": "markdown",
   "metadata": {},
   "source": [
    "## 5. Project the test data by linear discriminant to get the class prediction by nearest-neighbor rule and calculate the accuracy score \n",
    "you can use accuracy_score function from sklearn.metric.accuracy_score"
   ]
  },
  {
   "cell_type": "code",
   "execution_count": 13,
   "metadata": {},
   "outputs": [],
   "source": [
    "acc = accuracy_score(y_test, y_pred)"
   ]
  },
  {
   "cell_type": "code",
   "execution_count": 14,
   "metadata": {},
   "outputs": [
    {
     "name": "stdout",
     "output_type": "stream",
     "text": [
      "Accuracy of test-set 0.94\n"
     ]
    }
   ],
   "source": [
    "print(f\"Accuracy of test-set {acc}\")"
   ]
  },
  {
   "cell_type": "markdown",
   "metadata": {},
   "source": [
    "## 6. Plot the 1) best projection line on the training data and show the slope and intercept on the title (you can choose any value of intercept for better visualization) 2) colorize the data with each class 3) project all data points on your projection line. Your result should look like [this image](https://i.imgur.com/tubMQpw.jpg)"
   ]
  },
  {
   "cell_type": "code",
   "execution_count": 15,
   "metadata": {},
   "outputs": [
    {
     "data": {
      "image/png": "[encoded data removed]",
      "text/plain": [
       "<Figure size 432x288 with 1 Axes>"
      ]
     },
     "metadata": {
      "needs_background": "light"
     },
     "output_type": "display_data"
    }
   ],
   "source": [
    "plt.plot(m1[0][0], m1[0][1], \"bx\")\n",
    "plt.plot(m2[0][0], m2[0][1], \"rx\")\n",
    "axes = plt.gca()\n",
    "slope = w[1] / w[0]\n",
    "plt.plot([-w[0], w[0]], [-w[1], w[1]])\n",
    "w = w.reshape(2,)\n",
    "for i in range(len(x_train)):\n",
    "    if y_train[i] == 0:\n",
    "        pt = w * w.dot(x_train[i]) / np.linalg.norm(w)**2\n",
    "        plt.plot([pt[0], x_train[i][0]], [pt[1], x_train[i][1]], 'b.:', alpha=0.2)\n",
    "    else:\n",
    "        pt = w * w.dot(x_train[i]) / np.linalg.norm(w)**2\n",
    "        plt.plot([pt[0], x_train[i][0]], [pt[1], x_train[i][1]], 'r.:', alpha=0.2)\n",
    "\n",
    "plt.title(f\"Project Line: w = {slope[0]}, b = 0\")    \n",
    "plt.show()"
   ]
  }
 ],
 "metadata": {
  "kernelspec": {
   "display_name": "Python 3",
   "language": "python",
   "name": "python3"
  },
  "language_info": {
   "codemirror_mode": {
    "name": "ipython",
    "version": 3
   },
   "file_extension": ".py",
   "mimetype": "text/x-python",
   "name": "python",
   "nbconvert_exporter": "python",
   "pygments_lexer": "ipython3",
   "version": "3.6.10"
  }
 },
 "nbformat": 4,
 "nbformat_minor": 4
}
